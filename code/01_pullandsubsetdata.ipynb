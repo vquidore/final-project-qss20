{
 "cells": [
  {
   "cell_type": "markdown",
   "id": "da82990e",
   "metadata": {},
   "source": [
    "Plan of attack: \n",
    "\n",
    "-Subset THE DEMOGRAPHICS dataset by: \n",
    "Gender (Male/Female)\n",
    "Race \n",
    "\n",
    "-Merge the demographics data and the Start FEIS data by patient ID # \n",
    "-Clean data so only relevant columns are left (Demographic data + family input)\n",
    "\n",
    "We plan firstly to look at the spectrum of responses comparing available services/client mental health (as the answers are on a scale) and turn this into numerical data in order to quantify the quality of each subset’s degree of care.\n",
    "\n",
    "We then plan to conduct topic modeling on the column in which families discuss where care is lacking in order to find the most popular/most desired methods of care that START did not provide. \n",
    "\n",
    "We also plan to conduct topic modeling and sentiment analysis on the column in which families offer advice to their caregiver in order to form a rough idea of the quality of care and how it may vary across demographic groups. We also are interested to see if these responses’ sentiment scores will trend in a specific direction, indicating biases in those who actually responded to the survey.\n"
   ]
  },
  {
   "cell_type": "code",
   "execution_count": 11,
   "id": "c455bebc",
   "metadata": {},
   "outputs": [],
   "source": [
    "# Importing modules\n",
    "import pandas as pd"
   ]
  },
  {
   "cell_type": "code",
   "execution_count": 12,
   "id": "f8ab51fc",
   "metadata": {},
   "outputs": [],
   "source": [
    "demo_df = pd.read_excel(r\"../files/Dartmouth_Data_Set.xlsx\")\n",
    "FEIS_df = pd.read_excel(r\"../files/START_FEIS_Data.xlsx\")\n",
    "time_df = pd.read_excel(r\"../files/Dartmouth_Time_Data.xlsx\")\n",
    "dict_df = pd.read_excel(r\"../files/Final SIRS_Data_Dictionary_V13.1 October 2020.xlsx\")"
   ]
  },
  {
   "cell_type": "code",
   "execution_count": 13,
   "id": "0a0f57b2",
   "metadata": {},
   "outputs": [],
   "source": [
    "# Cleaning the demographics dataset\n",
    "demographics = demo_df[['Local ID', 'Region', 'Date Enrolled in START', 'Gender', 'Race', 'Date of birth', 'Ethnicity',\n",
    "                              'Level of Intellectual Disability', 'Psychiatric diagnoses', 'Medical diagnoses', 'Other Disabilities',\n",
    "                              'Funding']]"
   ]
  },
  {
   "cell_type": "code",
   "execution_count": 4,
   "id": "6e097763",
   "metadata": {},
   "outputs": [
    {
     "data": {
      "text/plain": [
       "(1097, 69)"
      ]
     },
     "execution_count": 4,
     "metadata": {},
     "output_type": "execute_result"
    }
   ],
   "source": [
    "# Merging datasets\n",
    "merged = pd.merge(demographics, FEIS_df, how = 'inner', left_on = ['Local ID'], right_on = ['Respondent ID #  (SIRS Local ID)'])\n",
    "\n",
    "# Look at type of join (changed)\n",
    "\n",
    "merged['Local ID'].unique\n",
    "merged.shape"
   ]
  },
  {
   "cell_type": "code",
   "execution_count": 19,
   "id": "8a813cef",
   "metadata": {},
   "outputs": [],
   "source": [
    "# Subsetting by gender\n",
    "demographics_male = merged.loc[merged['Gender']=='Male']\n",
    "demographics_female = merged.loc[merged['Gender']=='Female']\n",
    "\n",
    "\n",
    "# Subsetting by race\n",
    "male_white = demographics_male[demographics_male['Race'] == \"White\"]\n",
    "\n",
    "male_nonwhite = demographics_male[demographics_male['Race'] != \"White\"]\n",
    "\n",
    "female_white = demographics_female[demographics_female['Race'] == \"White\"]\n",
    "female_nonwhite = demographics_female[demographics_female['Race'] != \"White\"]\n",
    "\n",
    "male_white_csv = male_white.to_csv(\"../output/male_white\", index=False)\n",
    "male_white_csv\n",
    "\n",
    "male_nonwhite_csv = male_nonwhite.to_csv(\"../output/male_nonwhite\", index=False)\n",
    "male_nonwhite_csv\n",
    "\n",
    "female_white_csv = female_white.to_csv(\"../output/female_white\", index=False)\n",
    "female_white_csv\n",
    "#male_white.shape\n",
    "#male_nonwhite.shape\n",
    "\n",
    "female_nonwhite_csv = female_nonwhite.to_csv(\"../output/female_nonwhite\", index=False)\n",
    "female_nonwhite_csv\n",
    "\n",
    "#female_white.shape\n",
    "#female_nonwhite.shape\n",
    "\n"
   ]
  },
  {
   "cell_type": "code",
   "execution_count": 9,
   "id": "ecc38505",
   "metadata": {},
   "outputs": [
    {
     "ename": "NameError",
     "evalue": "name 'doj_subset' is not defined",
     "output_type": "error",
     "traceback": [
      "\u001b[0;31m---------------------------------------------------------------------------\u001b[0m",
      "\u001b[0;31mNameError\u001b[0m                                 Traceback (most recent call last)",
      "\u001b[0;32m/var/folders/3l/pdqq6kxn41j1l7vxkjmbbc5w0000gn/T/ipykernel_7573/3004440253.py\u001b[0m in \u001b[0;36m<module>\u001b[0;34m\u001b[0m\n\u001b[1;32m     12\u001b[0m     \u001b[0;32mreturn\u001b[0m \u001b[0msentiment_example\u001b[0m\u001b[0;34m\u001b[0m\u001b[0;34m\u001b[0m\u001b[0m\n\u001b[1;32m     13\u001b[0m \u001b[0;34m\u001b[0m\u001b[0m\n\u001b[0;32m---> 14\u001b[0;31m \u001b[0mdoj_sentiment\u001b[0m \u001b[0;34m=\u001b[0m \u001b[0;34m[\u001b[0m\u001b[0msentiment_analyzer\u001b[0m\u001b[0;34m(\u001b[0m\u001b[0mentry\u001b[0m\u001b[0;34m)\u001b[0m \u001b[0;32mfor\u001b[0m \u001b[0mentry\u001b[0m \u001b[0;32min\u001b[0m \u001b[0mdoj_subset\u001b[0m\u001b[0;34m[\u001b[0m\u001b[0;34m\"contents\"\u001b[0m\u001b[0;34m]\u001b[0m\u001b[0;34m]\u001b[0m\u001b[0;34m\u001b[0m\u001b[0;34m\u001b[0m\u001b[0m\n\u001b[0m",
      "\u001b[0;31mNameError\u001b[0m: name 'doj_subset' is not defined"
     ]
    }
   ],
   "source": [
    "def sentiment_analyzer(test_str): \n",
    "    doj_entity = nlp(test_str)\n",
    "    named_entities = [token.text for token in doj_entity.ents]\n",
    "    \n",
    "    fixed_entities = [re.escape(i) for i in named_entities]\n",
    "    regex = \"|\".join(fixed_entities)\n",
    "    delete_entities = re.sub(regex,\"\", test_str)\n",
    "    \n",
    "    sent_obj = SentimentIntensityAnalyzer()\n",
    "    sentiment_example = sent_obj.polarity_scores(test_str)\n",
    "    \n",
    "    return sentiment_example\n",
    "\n",
    "doj_sentiment = [sentiment_analyzer(entry) for entry in doj_subset[\"contents\"]]"
   ]
  },
  {
   "cell_type": "code",
   "execution_count": null,
   "id": "5d2c7d94",
   "metadata": {},
   "outputs": [],
   "source": []
  }
 ],
 "metadata": {
  "kernelspec": {
   "display_name": "Python 3 (ipykernel)",
   "language": "python",
   "name": "python3"
  },
  "language_info": {
   "codemirror_mode": {
    "name": "ipython",
    "version": 3
   },
   "file_extension": ".py",
   "mimetype": "text/x-python",
   "name": "python",
   "nbconvert_exporter": "python",
   "pygments_lexer": "ipython3",
   "version": "3.9.7"
  }
 },
 "nbformat": 4,
 "nbformat_minor": 5
}
